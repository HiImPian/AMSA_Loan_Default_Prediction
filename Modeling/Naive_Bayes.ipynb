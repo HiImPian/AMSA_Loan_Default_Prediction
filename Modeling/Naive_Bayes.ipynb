{
 "cells": [
  {
   "cell_type": "markdown",
   "metadata": {},
   "source": [
    "# AMSA: Naive Bayes Classification"
   ]
  },
  {
   "cell_type": "markdown",
   "metadata": {},
   "source": [
    "## Relevant libraries"
   ]
  },
  {
   "cell_type": "code",
   "execution_count": 1,
   "metadata": {},
   "outputs": [
    {
     "name": "stderr",
     "output_type": "stream",
     "text": [
      "/Users/hiimpian/opt/anaconda3/lib/python3.9/site-packages/pandas/core/arrays/masked.py:60: UserWarning: Pandas requires version '1.3.6' or newer of 'bottleneck' (version '1.3.5' currently installed).\n",
      "  from pandas.core import (\n"
     ]
    }
   ],
   "source": [
    "import pandas as pd"
   ]
  },
  {
   "cell_type": "markdown",
   "metadata": {},
   "source": [
    "## Data importing"
   ]
  },
  {
   "cell_type": "code",
   "execution_count": 6,
   "metadata": {},
   "outputs": [],
   "source": [
    "default_train_complete = pd.read_csv('../data/default_train_complete.csv').drop(columns = ['LoanID'])\n",
    "X_train = default_train_complete.drop(columns = ['Default'])\n",
    "y_train = pd.DataFrame(default_train_complete['Default'])"
   ]
  },
  {
   "cell_type": "code",
   "execution_count": 7,
   "metadata": {},
   "outputs": [
    {
     "name": "stdout",
     "output_type": "stream",
     "text": [
      "<class 'pandas.core.frame.DataFrame'>\n",
      "RangeIndex: 41514 entries, 0 to 41513\n",
      "Data columns (total 47 columns):\n",
      " #   Column                                Non-Null Count  Dtype  \n",
      "---  ------                                --------------  -----  \n",
      " 0   Age                                   41514 non-null  int64  \n",
      " 1   Income                                41514 non-null  int64  \n",
      " 2   LoanAmount                            41514 non-null  int64  \n",
      " 3   CreditScore                           41514 non-null  int64  \n",
      " 4   MonthsEmployed                        41514 non-null  int64  \n",
      " 5   NumCreditLines                        41514 non-null  int64  \n",
      " 6   InterestRate                          41514 non-null  float64\n",
      " 7   LoanTerm                              41514 non-null  int64  \n",
      " 8   DTIRatio                              41514 non-null  float64\n",
      " 9   Education                             41514 non-null  object \n",
      " 10  EmploymentType                        41514 non-null  object \n",
      " 11  MaritalStatus                         41514 non-null  object \n",
      " 12  HasMortgage                           41514 non-null  object \n",
      " 13  HasDependents                         41514 non-null  object \n",
      " 14  LoanPurpose                           41514 non-null  object \n",
      " 15  HasCoSigner                           41514 non-null  object \n",
      " 16  Default                               41514 non-null  int64  \n",
      " 17  Education_and_EmploymentType          41514 non-null  object \n",
      " 18  Education_and_MaritalStatus           41514 non-null  object \n",
      " 19  Education_and_HasMortgage             41514 non-null  object \n",
      " 20  EmploymentType_and_MaritalStatus      41514 non-null  object \n",
      " 21  EmploymentType_and_HasMortgage        41514 non-null  object \n",
      " 22  MaritalStatus_and_HasMortgage         41514 non-null  object \n",
      " 23  LoanAmount_to_Income                  41514 non-null  float64\n",
      " 24  SimpleInterest                        41514 non-null  float64\n",
      " 25  Debt                                  41514 non-null  float64\n",
      " 26  MonthlyLoanAmount                     41514 non-null  float64\n",
      " 27  AverageIncome_Education               41514 non-null  float64\n",
      " 28  AverageIncome_EmploymentType          41514 non-null  float64\n",
      " 29  AverageIncome_MaritalStatus           41514 non-null  float64\n",
      " 30  AverageIncome_LoanPurpose             41514 non-null  float64\n",
      " 31  AverageLoanAmount_Education           41514 non-null  float64\n",
      " 32  AverageLoanAmount_EmploymentType      41514 non-null  float64\n",
      " 33  AverageLoanAmount_MaritalStatus       41514 non-null  float64\n",
      " 34  AverageLoanAmount_LoanPurpose         41514 non-null  float64\n",
      " 35  AverageCreditScore_Education          41514 non-null  float64\n",
      " 36  AverageCreditScore_EmploymentType     41514 non-null  float64\n",
      " 37  AverageCreditScore_MaritalStatus      41514 non-null  float64\n",
      " 38  AverageCreditScore_LoanPurpose        41514 non-null  float64\n",
      " 39  AverageAge_Education                  41514 non-null  float64\n",
      " 40  AverageAge_EmploymentType             41514 non-null  float64\n",
      " 41  AverageAge_MaritalStatus              41514 non-null  float64\n",
      " 42  AverageAge_LoanPurpose                41514 non-null  float64\n",
      " 43  AverageNumCreditLines_Education       41514 non-null  float64\n",
      " 44  AverageNumCreditLines_EmploymentType  41514 non-null  float64\n",
      " 45  AverageNumCreditLines_MaritalStatus   41514 non-null  float64\n",
      " 46  AverageNumCreditLines_LoanPurpose     41514 non-null  float64\n",
      "dtypes: float64(26), int64(8), object(13)\n",
      "memory usage: 14.9+ MB\n"
     ]
    }
   ],
   "source": [
    "default_train_complete.info()"
   ]
  },
  {
   "cell_type": "code",
   "execution_count": 8,
   "metadata": {},
   "outputs": [
    {
     "name": "stdout",
     "output_type": "stream",
     "text": [
      "<class 'pandas.core.frame.DataFrame'>\n",
      "RangeIndex: 41514 entries, 0 to 41513\n",
      "Data columns (total 46 columns):\n",
      " #   Column                                Non-Null Count  Dtype  \n",
      "---  ------                                --------------  -----  \n",
      " 0   Age                                   41514 non-null  int64  \n",
      " 1   Income                                41514 non-null  int64  \n",
      " 2   LoanAmount                            41514 non-null  int64  \n",
      " 3   CreditScore                           41514 non-null  int64  \n",
      " 4   MonthsEmployed                        41514 non-null  int64  \n",
      " 5   NumCreditLines                        41514 non-null  int64  \n",
      " 6   InterestRate                          41514 non-null  float64\n",
      " 7   LoanTerm                              41514 non-null  int64  \n",
      " 8   DTIRatio                              41514 non-null  float64\n",
      " 9   Education                             41514 non-null  object \n",
      " 10  EmploymentType                        41514 non-null  object \n",
      " 11  MaritalStatus                         41514 non-null  object \n",
      " 12  HasMortgage                           41514 non-null  object \n",
      " 13  HasDependents                         41514 non-null  object \n",
      " 14  LoanPurpose                           41514 non-null  object \n",
      " 15  HasCoSigner                           41514 non-null  object \n",
      " 16  Education_and_EmploymentType          41514 non-null  object \n",
      " 17  Education_and_MaritalStatus           41514 non-null  object \n",
      " 18  Education_and_HasMortgage             41514 non-null  object \n",
      " 19  EmploymentType_and_MaritalStatus      41514 non-null  object \n",
      " 20  EmploymentType_and_HasMortgage        41514 non-null  object \n",
      " 21  MaritalStatus_and_HasMortgage         41514 non-null  object \n",
      " 22  LoanAmount_to_Income                  41514 non-null  float64\n",
      " 23  SimpleInterest                        41514 non-null  float64\n",
      " 24  Debt                                  41514 non-null  float64\n",
      " 25  MonthlyLoanAmount                     41514 non-null  float64\n",
      " 26  AverageIncome_Education               41514 non-null  float64\n",
      " 27  AverageIncome_EmploymentType          41514 non-null  float64\n",
      " 28  AverageIncome_MaritalStatus           41514 non-null  float64\n",
      " 29  AverageIncome_LoanPurpose             41514 non-null  float64\n",
      " 30  AverageLoanAmount_Education           41514 non-null  float64\n",
      " 31  AverageLoanAmount_EmploymentType      41514 non-null  float64\n",
      " 32  AverageLoanAmount_MaritalStatus       41514 non-null  float64\n",
      " 33  AverageLoanAmount_LoanPurpose         41514 non-null  float64\n",
      " 34  AverageCreditScore_Education          41514 non-null  float64\n",
      " 35  AverageCreditScore_EmploymentType     41514 non-null  float64\n",
      " 36  AverageCreditScore_MaritalStatus      41514 non-null  float64\n",
      " 37  AverageCreditScore_LoanPurpose        41514 non-null  float64\n",
      " 38  AverageAge_Education                  41514 non-null  float64\n",
      " 39  AverageAge_EmploymentType             41514 non-null  float64\n",
      " 40  AverageAge_MaritalStatus              41514 non-null  float64\n",
      " 41  AverageAge_LoanPurpose                41514 non-null  float64\n",
      " 42  AverageNumCreditLines_Education       41514 non-null  float64\n",
      " 43  AverageNumCreditLines_EmploymentType  41514 non-null  float64\n",
      " 44  AverageNumCreditLines_MaritalStatus   41514 non-null  float64\n",
      " 45  AverageNumCreditLines_LoanPurpose     41514 non-null  float64\n",
      "dtypes: float64(26), int64(7), object(13)\n",
      "memory usage: 14.6+ MB\n"
     ]
    }
   ],
   "source": [
    "X_train.info()"
   ]
  },
  {
   "cell_type": "code",
   "execution_count": 9,
   "metadata": {},
   "outputs": [
    {
     "name": "stdout",
     "output_type": "stream",
     "text": [
      "<class 'pandas.core.frame.DataFrame'>\n",
      "RangeIndex: 41514 entries, 0 to 41513\n",
      "Data columns (total 1 columns):\n",
      " #   Column   Non-Null Count  Dtype\n",
      "---  ------   --------------  -----\n",
      " 0   Default  41514 non-null  int64\n",
      "dtypes: int64(1)\n",
      "memory usage: 324.5 KB\n"
     ]
    }
   ],
   "source": [
    "y_train.info()"
   ]
  },
  {
   "cell_type": "code",
   "execution_count": null,
   "metadata": {},
   "outputs": [],
   "source": []
  }
 ],
 "metadata": {
  "kernelspec": {
   "display_name": "base",
   "language": "python",
   "name": "python3"
  },
  "language_info": {
   "codemirror_mode": {
    "name": "ipython",
    "version": 3
   },
   "file_extension": ".py",
   "mimetype": "text/x-python",
   "name": "python",
   "nbconvert_exporter": "python",
   "pygments_lexer": "ipython3",
   "version": "3.9.18"
  }
 },
 "nbformat": 4,
 "nbformat_minor": 2
}
